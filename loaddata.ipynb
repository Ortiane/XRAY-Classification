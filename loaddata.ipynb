{
 "cells": [
  {
   "cell_type": "code",
   "execution_count": 28,
   "metadata": {},
   "outputs": [
    {
     "name": "stdout",
     "output_type": "stream",
     "text": [
      "2.1.0\n"
     ]
    },
    {
     "data": {
      "text/plain": [
       "tensorflow.python.data.ops.dataset_ops.DatasetV2"
      ]
     },
     "execution_count": 28,
     "metadata": {},
     "output_type": "execute_result"
    }
   ],
   "source": [
    "import tensorflow as tf\n",
    "# print(tf.__version__)"
   ]
  },
  {
   "cell_type": "code",
   "execution_count": 35,
   "metadata": {},
   "outputs": [
    {
     "name": "stdout",
     "output_type": "stream",
     "text": [
      "5606\n",
      "5606\n"
     ]
    }
   ],
   "source": [
    "\n",
    "\n",
    "x_path = './sample/images/'\n",
    "x_file_list = []\n",
    "y_str_list = []\n",
    "with open('./sample/sample_labels.csv') as csv_file:\n",
    "    csv_reader = csv.reader(csv_file, delimiter=',')\n",
    "    line_count = 0\n",
    "    for row in csv_reader:\n",
    "        if line_count == 0:\n",
    "            line_count += 1\n",
    "        else:\n",
    "#             print(type(row), len(row), row[0], row[1].split('|'))\n",
    "            line_count += 1\n",
    "            x_file_list.append(x_path + row[0])\n",
    "            y_str_list.append(row[1].split('|'))\n",
    "    \n",
    "print(len(x_file_list))\n",
    "print(len(y_str_list))"
   ]
  },
  {
   "cell_type": "code",
   "execution_count": 36,
   "metadata": {},
   "outputs": [
    {
     "name": "stdout",
     "output_type": "stream",
     "text": [
      "./sample/images/00005220_007.png\n",
      "['Emphysema', 'Infiltration', 'Pleural_Thickening', 'Pneumothorax']\n"
     ]
    }
   ],
   "source": [
    "print(x_file_list[1001])\n",
    "print(y_str_list[0])"
   ]
  },
  {
   "cell_type": "code",
   "execution_count": 37,
   "metadata": {},
   "outputs": [
    {
     "name": "stdout",
     "output_type": "stream",
     "text": [
      "[<tf.Tensor: shape=(14,), dtype=int32, numpy=array([1, 1, 1, 1, 0, 0, 0, 0, 0, 0, 0, 0, 0, 0], dtype=int32)>, <tf.Tensor: shape=(14,), dtype=int32, numpy=array([1, 0, 0, 0, 1, 0, 0, 0, 0, 0, 0, 0, 0, 0], dtype=int32)>, <tf.Tensor: shape=(14,), dtype=int32, numpy=array([0, 0, 0, 0, 0, 0, 0, 0, 0, 0, 0, 0, 0, 0], dtype=int32)>, <tf.Tensor: shape=(14,), dtype=int32, numpy=array([0, 0, 0, 0, 0, 1, 0, 0, 0, 0, 0, 0, 0, 0], dtype=int32)>, <tf.Tensor: shape=(14,), dtype=int32, numpy=array([0, 0, 0, 0, 1, 0, 1, 1, 0, 0, 0, 0, 0, 0], dtype=int32)>, <tf.Tensor: shape=(14,), dtype=int32, numpy=array([0, 0, 0, 0, 0, 0, 0, 0, 1, 1, 0, 0, 0, 0], dtype=int32)>, <tf.Tensor: shape=(14,), dtype=int32, numpy=array([0, 0, 0, 0, 0, 0, 0, 0, 0, 0, 0, 0, 0, 0], dtype=int32)>, <tf.Tensor: shape=(14,), dtype=int32, numpy=array([0, 0, 0, 0, 0, 0, 0, 0, 0, 0, 0, 0, 0, 0], dtype=int32)>, <tf.Tensor: shape=(14,), dtype=int32, numpy=array([0, 0, 0, 0, 0, 0, 0, 1, 0, 0, 0, 0, 0, 0], dtype=int32)>, <tf.Tensor: shape=(14,), dtype=int32, numpy=array([0, 0, 0, 0, 0, 0, 0, 0, 0, 0, 0, 0, 0, 0], dtype=int32)>]\n"
     ]
    }
   ],
   "source": [
    "y_dict = {\n",
    "    'Emphysema': 0, \n",
    "    'Infiltration': 1, \n",
    "    'Pleural_Thickening': 2, \n",
    "    'Pneumothorax': 3, \n",
    "    'Cardiomegaly': 4, \n",
    "    'Atelectasis': 5, \n",
    "    'Edema': 6, \n",
    "    'Effusion': 7, \n",
    "    'Consolidation': 8, \n",
    "    'Mass': 9, \n",
    "    'Nodule': 10, \n",
    "    'Fibrosis': 11, \n",
    "    'Pneumonia': 12, \n",
    "    'Hernia': 13\n",
    "}\n",
    "# stats_dict = {}\n",
    "# for i in range(len(y_str_list)):\n",
    "#     labels = y_str_list[i]\n",
    "#     for label in labels:\n",
    "#         if label in stats_dict:\n",
    "#             stats_dict[label] += 1\n",
    "#         else:\n",
    "#             stats_dict[label] = 1\n",
    "# print(stats_dict)\n",
    "# print(len(stats_dict))\n",
    "y_list = []\n",
    "for i in range(len(y_str_list)):\n",
    "    labels = [0] * 14\n",
    "    for y_logit in y_str_list[i]:\n",
    "        if y_logit == 'No Finding':\n",
    "            continue\n",
    "        labels[y_dict[y_logit]] = 1\n",
    "    labels = tf.constant(labels)\n",
    "    y_list.append(labels)\n",
    "print(y_list[0:10])"
   ]
  },
  {
   "cell_type": "code",
   "execution_count": 50,
   "metadata": {},
   "outputs": [],
   "source": [
    "# dataset_x = tf.data.Dataset.from_tensor_slices(tf.convert_to_tensor(x_file_list))\n",
    "# dataset_y = tf.data.Dataset.from_tensor_slices(y_list)\n",
    "dataset = tf.data.Dataset.from_tensor_slices((x_file_list, y_list))\n",
    "# for x in dataset_x:\n",
    "#     print(x)\n",
    "#     break\n",
    "def parse_fn(filename, label):\n",
    "    img_str = tf.io.read_file(filename)\n",
    "    img_dcd = tf.image.decode_png(img_str, channels=3)\n",
    "    return img_dcd, label\n",
    "dataset = dataset.map(parse_fn, num_parallel_calls=tf.data.experimental.AUTOTUNE)\n",
    "dataset = dataset.batch(3)"
   ]
  },
  {
   "cell_type": "code",
   "execution_count": 51,
   "metadata": {},
   "outputs": [
    {
     "name": "stdout",
     "output_type": "stream",
     "text": [
      "<class 'tensorflow.python.framework.ops.EagerTensor'> (3, 1024, 1024, 3)\n",
      "<class 'tensorflow.python.framework.ops.EagerTensor'> (3, 14)\n"
     ]
    }
   ],
   "source": [
    "for x, y in dataset:\n",
    "    print(type(x), x.shape)\n",
    "    print(type(y), y.shape)\n",
    "    break"
   ]
  },
  {
   "cell_type": "code",
   "execution_count": 56,
   "metadata": {},
   "outputs": [
    {
     "name": "stdout",
     "output_type": "stream",
     "text": [
      "(3, 1024, 1024, 3) (3, 14)\n"
     ]
    }
   ],
   "source": [
    "import tensorflow as tf\n",
    "import csv\n",
    "\n",
    "def makeDataset(x_path, csv_filename, batch_size):\n",
    "#     x_path = './sample/images/'\n",
    "    x_file_list = []\n",
    "    y_str_list = []\n",
    "    with open(csv_filename) as csv_file:\n",
    "        csv_reader = csv.reader(csv_file, delimiter=',')\n",
    "        line_count = 0\n",
    "        for row in csv_reader:\n",
    "            if line_count == 0:\n",
    "                line_count += 1\n",
    "            else:\n",
    "    #             print(type(row), len(row), row[0], row[1].split('|'))\n",
    "                line_count += 1\n",
    "                x_file_list.append(x_path + row[0])\n",
    "                y_str_list.append(row[1].split('|'))\n",
    "\n",
    "    y_dict = {\n",
    "        'Emphysema': 0, \n",
    "        'Infiltration': 1, \n",
    "        'Pleural_Thickening': 2, \n",
    "        'Pneumothorax': 3, \n",
    "        'Cardiomegaly': 4, \n",
    "        'Atelectasis': 5, \n",
    "        'Edema': 6, \n",
    "        'Effusion': 7, \n",
    "        'Consolidation': 8, \n",
    "        'Mass': 9, \n",
    "        'Nodule': 10, \n",
    "        'Fibrosis': 11, \n",
    "        'Pneumonia': 12, \n",
    "        'Hernia': 13\n",
    "    }\n",
    "    # stats_dict = {}\n",
    "    # for i in range(len(y_str_list)):\n",
    "    #     labels = y_str_list[i]\n",
    "    #     for label in labels:\n",
    "    #         if label in stats_dict:\n",
    "    #             stats_dict[label] += 1\n",
    "    #         else:\n",
    "    #             stats_dict[label] = 1\n",
    "    # print(stats_dict)\n",
    "    # print(len(stats_dict))\n",
    "    y_list = []\n",
    "    for i in range(len(y_str_list)):\n",
    "        labels = [0] * 14\n",
    "        for y_logit in y_str_list[i]:\n",
    "            if y_logit == 'No Finding':\n",
    "                continue\n",
    "            labels[y_dict[y_logit]] = 1\n",
    "        labels = tf.constant(labels)\n",
    "        y_list.append(labels)\n",
    "    dataset = tf.data.Dataset.from_tensor_slices((x_file_list, y_list))\n",
    "    # for x in dataset_x:\n",
    "    #     print(x)\n",
    "    #     break\n",
    "    def parse_fn(filename, label):\n",
    "        img_str = tf.io.read_file(filename)\n",
    "        img_dcd = tf.image.decode_png(img_str, channels=3)\n",
    "        return img_dcd, label\n",
    "    dataset = dataset.map(parse_fn, num_parallel_calls=tf.data.experimental.AUTOTUNE)\n",
    "    dataset = dataset.batch(batch_size)\n",
    "    return dataset\n",
    "\n",
    "if __name__ == '__main__':\n",
    "    x_path = './sample/images/'\n",
    "    csv_file = './sample/sample_labels.csv'\n",
    "    batch_size = 3\n",
    "    dataset = makeDataset(x_path, csv_file, batch_size)\n",
    "    for x, y in dataset:\n",
    "        print(x.shape, y.shape)\n",
    "        break"
   ]
  },
  {
   "cell_type": "code",
   "execution_count": null,
   "metadata": {},
   "outputs": [],
   "source": []
  },
  {
   "cell_type": "code",
   "execution_count": null,
   "metadata": {},
   "outputs": [],
   "source": []
  }
 ],
 "metadata": {
  "kernelspec": {
   "display_name": "Environment (conda_tensorflow2_p36)",
   "language": "python",
   "name": "conda_tensorflow2_p36"
  },
  "language_info": {
   "codemirror_mode": {
    "name": "ipython",
    "version": 3
   },
   "file_extension": ".py",
   "mimetype": "text/x-python",
   "name": "python",
   "nbconvert_exporter": "python",
   "pygments_lexer": "ipython3",
   "version": "3.6.6"
  }
 },
 "nbformat": 4,
 "nbformat_minor": 2
}
